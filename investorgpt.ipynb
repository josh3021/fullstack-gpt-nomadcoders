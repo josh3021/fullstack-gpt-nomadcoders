{
 "cells": [
  {
   "cell_type": "code",
   "execution_count": null,
   "id": "5c46f8ac",
   "metadata": {},
   "outputs": [
    {
     "name": "stdout",
     "output_type": "stream",
     "text": [
      "\n",
      "\n",
      "\u001b[1m> Entering new AgentExecutor chain...\u001b[0m\n",
      "\u001b[32;1m\u001b[1;3m\n",
      "Invoking: `StockMarketSymbolSearchTool` with `{'query': 'Cloudflare stock'}`\n",
      "\n",
      "\n",
      "\u001b[0m"
     ]
    },
    {
     "name": "stderr",
     "output_type": "stream",
     "text": [
      "/Users/seonghwanjo/Develops/Personal/fullstack-gpt-nomadcoders/env/lib/python3.11/site-packages/langchain/utilities/duckduckgo_search.py:81: RuntimeWarning: This package (`duckduckgo_search`) has been renamed to `ddgs`! Use `pip install ddgs` instead.\n",
      "  with DDGS() as ddgs:\n",
      "/Users/seonghwanjo/Develops/Personal/fullstack-gpt-nomadcoders/env/lib/python3.11/site-packages/langchain/utilities/duckduckgo_search.py:82: UserWarning: backend='api' is deprecated, using backend='auto'\n",
      "  results = ddgs.text(\n"
     ]
    },
    {
     "name": "stdout",
     "output_type": "stream",
     "text": [
      "\u001b[36;1m\u001b[1;3m[snippet: 台積電 (TPE:2330)-電子上游-IC-代工-今日即時股價與歷史行情走勢，台積電 (2330)成交量、漲跌幅與總單量等資訊，還有眾多股市達人協助回答你的台積電疑問。, title: 台積電 (2330)-今日即時股價查詢、歷史行情走勢與網路討論區｜CMoney 股市爆 …, link: https://www.cmoney.tw/forum/stock/2330], [snippet: 台積電(2330)的個股市況總覽，包含股價走勢、技術分析、基本資料、法人買賣、資券變化、集保分布、主力券商，以及營收、損益等詳細的財務報表。, title: 台積電 (2330) 個股概覽 | 個股 - 股市 - 理財寶, link: https://www.cmoney.tw/finance/2330/f00025], [snippet: 查看最新undefined (TSM)股票股價、成交量、漲跌幅與歷史行情走勢、財報分析、技術分析、 (TSM)新聞，以及undefined 整體資訊。CMoney 美股股市提供最新最完整的股市資訊，幫助美股投資人更暸 …, title: undefined (TSM)即時股價與歷史走勢 | 即時報價 - CMoney 美股股市, link: https://www.cmoney.tw/usfinance/TSM/us0001], [snippet: Jul 4, 2025 · 台積電(2330)-個股籌碼集中度查詢與分佈圖，提供台積電(2330)籌碼集中度與分佈圖等資訊，就在CMoney股市爆料同學會。, title: 台積電 (2330)-千張大戶與散戶持股比例，持股籌碼集中度查詢｜CMoney 股市 …, link: https://www.cmoney.tw/forum/stock/2330?s=major-holders]\u001b[0m\u001b[32;1m\u001b[1;3m\n",
      "Invoking: `StockMarketSymbolSearchTool` with `{'query': 'Cloudflare stock symbol'}`\n",
      "responded: I couldn't find specific information on Cloudflare's stock. Let me try searching for the stock symbol again.\n",
      "\n",
      "\u001b[0m\u001b[36;1m\u001b[1;3m[snippet: Jul 16, 2020 · 太い毛の生えた根を伸ばし、樹の幹や岩などに張り付くように生長し、細かいレースのような三角形の葉を出します。 また、秋には紅葉し、冬は落葉します。 そんなシノブの育て方を見ていきましょう。 シノブは日本全国に分布しているように、暑さにも寒さにも強い植物です。 直射日光は好まず、耐陰性があるので、明るい日陰となる屋外か、窓越しの室内などが適しています。 また、窓がある浴室などでもよく育ちます。 マイナス5℃くらいまでは耐えられる耐寒性があるので、庭の半日陰などにも向いています。 シノ …, title: シノブの育て方｜肥料や水やり、日当たりの加減は？｜, link: https://greensnap.jp/category1/flower/botany/289/growth], [snippet: Jul 16, 2022 · シノブとは？ シノブは シノブ科 シノブ属（ダバリア属）の 多年草 のシダ植物。 シダ植物らしい葉っぱが出て、毛の生えた根が伸びます。 秋には 紅葉 し、冬は葉っぱが無くなる通常のシノブと、冬でも常緑の台湾原産の トキワシノブ があります。, title: シノブの育て方, link: https://sodatekata.net/flowers/page/660.html], [snippet: May 13, 2021 · レースのような美しいデザインが特徴のシダ植物「シノブ」は、日本の他に中国や朝鮮、台湾などの東アジアで自生しています。 人気がある種類は、冬でも葉が落ちない台湾原産の「トキワシノブ」です。, title: シノブの育て方ガイド！植え替え方法や水やりの量・頻度など9 ..., link: https://kurashi-no.jp/I0041713], [snippet: May 4, 2025 · シノブやトキワシノブは、ハイドロボールを使った水耕栽培に非常に適している植物です。 適切な管理を行えば、土を使わずとも元気に育てることができます。, title: シノブやトキワシノブをハイドロボールで育てる方法とコツ ..., link: https://life.awaisora.com/2025/05/04/a1b003a6-2a68-40f7-93b7-7dd293fb9a85/]\u001b[0m"
     ]
    },
    {
     "name": "stderr",
     "output_type": "stream",
     "text": [
      "/Users/seonghwanjo/Develops/Personal/fullstack-gpt-nomadcoders/env/lib/python3.11/site-packages/langchain/utilities/duckduckgo_search.py:81: RuntimeWarning: This package (`duckduckgo_search`) has been renamed to `ddgs`! Use `pip install ddgs` instead.\n",
      "  with DDGS() as ddgs:\n",
      "/Users/seonghwanjo/Develops/Personal/fullstack-gpt-nomadcoders/env/lib/python3.11/site-packages/langchain/utilities/duckduckgo_search.py:82: UserWarning: backend='api' is deprecated, using backend='auto'\n",
      "  results = ddgs.text(\n"
     ]
    },
    {
     "name": "stdout",
     "output_type": "stream",
     "text": [
      "\u001b[32;1m\u001b[1;3mI apologize for the inconvenience. It seems I'm having trouble finding the stock symbol for Cloudflare. Let me provide you with some general information on Cloudflare's stock and help you analyze if it's a potential good investment.\n",
      "\n",
      "Cloudflare is a technology company that provides cloud-based services to secure and optimize websites. As of now, Cloudflare is a publicly traded company listed on the New York Stock Exchange (NYSE). The stock symbol for Cloudflare is \"NET.\"\n",
      "\n",
      "To analyze if Cloudflare's stock is a potential good investment, we can consider factors such as the company's financial performance, growth prospects, competitive position in the market, and industry trends. It's important to conduct thorough research and consult with a financial advisor before making any investment decisions.\n",
      "\n",
      "If you would like more detailed information or analysis on Cloudflare's stock, please let me know.\u001b[0m\n",
      "\n",
      "\u001b[1m> Finished chain.\u001b[0m\n"
     ]
    },
    {
     "data": {
      "text/plain": [
       "{'input': \"Give me information on Cloudflare's stock and help me analyze if it's a potential good investment. Also tell me what symbol does the stock have.\",\n",
       " 'output': 'I apologize for the inconvenience. It seems I\\'m having trouble finding the stock symbol for Cloudflare. Let me provide you with some general information on Cloudflare\\'s stock and help you analyze if it\\'s a potential good investment.\\n\\nCloudflare is a technology company that provides cloud-based services to secure and optimize websites. As of now, Cloudflare is a publicly traded company listed on the New York Stock Exchange (NYSE). The stock symbol for Cloudflare is \"NET.\"\\n\\nTo analyze if Cloudflare\\'s stock is a potential good investment, we can consider factors such as the company\\'s financial performance, growth prospects, competitive position in the market, and industry trends. It\\'s important to conduct thorough research and consult with a financial advisor before making any investment decisions.\\n\\nIf you would like more detailed information or analysis on Cloudflare\\'s stock, please let me know.'}"
      ]
     },
     "execution_count": 1,
     "metadata": {},
     "output_type": "execute_result"
    }
   ],
   "source": [
    "from typing import Type\n",
    "import requests\n",
    "from langchain.chat_models import ChatOpenAI\n",
    "from langchain.tools import BaseTool, DuckDuckGoSearchResults\n",
    "from pydantic import BaseModel, Field\n",
    "from langchain.agents import initialize_agent, AgentType\n",
    "import yfinance as yf\n",
    "\n",
    "llm = ChatOpenAI(temperature=0.1)\n",
    "\n",
    "\n",
    "class StockMarketTickerSearchToolArgsSchema(BaseModel):\n",
    "    query: str = Field(\n",
    "        description=\"The query you will search for.Example query: Stock Market Ticker for Apple Company\"\n",
    "    )\n",
    "\n",
    "\n",
    "class StockMarketTickerSearchTool(BaseTool):\n",
    "    name = \"StockMarketTickerSearchTool\"\n",
    "    description = \"\"\"\n",
    "    Use this tool to find the stock market Ticker for a company.\n",
    "    It takes a query as an argument.\n",
    "    \n",
    "    \"\"\"\n",
    "    args_schema: Type[\n",
    "        StockMarketTickerSearchToolArgsSchema\n",
    "    ] = StockMarketTickerSearchToolArgsSchema\n",
    "\n",
    "    def _run(self, query):\n",
    "        ddg = DuckDuckGoSearchResults()\n",
    "        return ddg.run(query)\n",
    "\n",
    "\n",
    "class CompanyOverviewArgsSchema(BaseModel):\n",
    "    Ticker: str = Field(\n",
    "        description=\"Stock Ticker of the Company. Exmaple: AAPL, TSLA\"\n",
    "    )\n",
    "\n",
    "\n",
    "class CompanyOverview(BaseTool):\n",
    "    name = \"CompanyOverview\"\n",
    "    description = \"\"\"\n",
    "    Use this to get overview of the financials of the company.\n",
    "    You should enter a stock Ticker\n",
    "    \"\"\"\n",
    "    args_schema: Type[CompanyOverviewArgsSchema] = CompanyOverviewArgsSchema\n",
    "\n",
    "    def _run(self, ticker: str):\n",
    "        r = requests.get\n",
    "\n",
    "\n",
    "msft = yf.Ticker(\"MSFT\")\n",
    "\n",
    "agent = initialize_agent(\n",
    "    llm=llm,\n",
    "    verbose=True,\n",
    "    agent=AgentType.OPENAI_FUNCTIONS,\n",
    "    handle_parsing_errors=True,\n",
    "    tools=[\n",
    "        StockMarketTickerSearchTool(),\n",
    "    ],\n",
    ")\n",
    "\n",
    "prompt = \"Give me information on Cloudflare's stock and help me analyze if it's a potential good investment. Also tell me what Ticker does the stock have.\"\n",
    "\n",
    "agent.invoke(prompt)"
   ]
  },
  {
   "cell_type": "code",
   "execution_count": null,
   "id": "038c5c8d",
   "metadata": {},
   "outputs": [],
   "source": []
  }
 ],
 "metadata": {
  "kernelspec": {
   "display_name": "env",
   "language": "python",
   "name": "python3"
  },
  "language_info": {
   "codemirror_mode": {
    "name": "ipython",
    "version": 3
   },
   "file_extension": ".py",
   "mimetype": "text/x-python",
   "name": "python",
   "nbconvert_exporter": "python",
   "pygments_lexer": "ipython3",
   "version": "3.11.13"
  }
 },
 "nbformat": 4,
 "nbformat_minor": 5
}
