{
 "cells": [
  {
   "cell_type": "code",
   "execution_count": null,
   "id": "bdade7de",
   "metadata": {},
   "outputs": [],
   "source": [
    "from langchain.memory import ConversationKGMemory\n",
    "from langchain.chat_models import ChatOpenAI\n",
    "\n",
    "llm = ChatOpenAI(temperature=0.1)\n",
    "\n",
    "memory = ConversationKGMemory(\n",
    "    llm=llm,\n",
    "    return_messages=True\n",
    ")\n",
    "\n",
    "\n",
    "def add_message(input, output):\n",
    "    memory.save_context({\"input\": input}, {\"output\": output})\n",
    "\n",
    "\n",
    "def get_history():\n",
    "    return memory.load_memory_variables({})\n",
    "\n",
    "\n",
    "add_message(\"Hi, My name is Seonghwan, I live in South Korea, Seoul\",\n",
    "            \"Cool!\")"
   ]
  },
  {
   "cell_type": "code",
   "execution_count": 32,
   "id": "0135cf0b",
   "metadata": {},
   "outputs": [
    {
     "data": {
      "text/plain": [
       "{'history': [SystemMessage(content='On Seonghwan: Seonghwan lives in Seoul.')]}"
      ]
     },
     "execution_count": 32,
     "metadata": {},
     "output_type": "execute_result"
    }
   ],
   "source": [
    "memory.load_memory_variables({'input': \"who is seonghwan?\"})"
   ]
  },
  {
   "cell_type": "code",
   "execution_count": null,
   "id": "c63d9e42",
   "metadata": {},
   "outputs": [],
   "source": [
    "add_message(\"Seonghwan likes New Balance Shoes\",\n",
    "            \"Cool! New Balance is very good shoes\")"
   ]
  },
  {
   "cell_type": "code",
   "execution_count": 37,
   "id": "af39adb7",
   "metadata": {},
   "outputs": [
    {
     "data": {
      "text/plain": [
       "{'history': [SystemMessage(content='On Seonghwan: Seonghwan lives in Seoul.')]}"
      ]
     },
     "execution_count": 37,
     "metadata": {},
     "output_type": "execute_result"
    }
   ],
   "source": [
    "memory.load_memory_variables({'inputs': 'What shoe Seonghwan likes?'})"
   ]
  },
  {
   "cell_type": "code",
   "execution_count": null,
   "id": "0114b23c",
   "metadata": {},
   "outputs": [],
   "source": []
  },
  {
   "cell_type": "code",
   "execution_count": null,
   "id": "f768e900",
   "metadata": {},
   "outputs": [],
   "source": []
  },
  {
   "cell_type": "code",
   "execution_count": null,
   "id": "cbef43fc",
   "metadata": {},
   "outputs": [],
   "source": []
  }
 ],
 "metadata": {
  "kernelspec": {
   "display_name": "env",
   "language": "python",
   "name": "python3"
  },
  "language_info": {
   "codemirror_mode": {
    "name": "ipython",
    "version": 3
   },
   "file_extension": ".py",
   "mimetype": "text/x-python",
   "name": "python",
   "nbconvert_exporter": "python",
   "pygments_lexer": "ipython3",
   "version": "3.11.13"
  }
 },
 "nbformat": 4,
 "nbformat_minor": 5
}
