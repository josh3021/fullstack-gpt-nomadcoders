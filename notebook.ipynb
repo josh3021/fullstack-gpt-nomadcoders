{
 "cells": [
  {
   "cell_type": "code",
   "execution_count": 26,
   "id": "bdade7de",
   "metadata": {},
   "outputs": [],
   "source": [
    "from langchain.chat_models import ChatOpenAI\n",
    "from langchain.embeddings import OpenAIEmbeddings, CacheBackedEmbeddings\n",
    "from langchain.document_loaders import UnstructuredFileLoader\n",
    "from langchain.vectorstores import FAISS\n",
    "from langchain.text_splitter import CharacterTextSplitter\n",
    "from langchain.storage import LocalFileStore\n",
    "from langchain.chains import RetrievalQA\n",
    "\n",
    "cache_dir = LocalFileStore('./.cache/')\n",
    "\n",
    "llm = ChatOpenAI(\n",
    "    model=\"gpt-4.1-nano\",\n",
    "    temperature=0.7,\n",
    "    streaming=True,\n",
    "    verbose=True\n",
    ")\n",
    "\n",
    "splitter = CharacterTextSplitter.from_tiktoken_encoder(\n",
    "    separator=\"\\n\",\n",
    "    chunk_size=600,\n",
    "    chunk_overlap=100,\n",
    ")\n",
    "\n",
    "loader = UnstructuredFileLoader('./files/chapter_one.pdf')\n",
    "\n",
    "docs = loader.load_and_split(text_splitter=splitter)\n",
    "\n",
    "embeddings = OpenAIEmbeddings()\n",
    "\n",
    "cached_embeddings = CacheBackedEmbeddings.from_bytes_store(\n",
    "    embeddings, cache_dir\n",
    ")\n",
    "\n",
    "vectorstore = FAISS.from_documents(docs, cached_embeddings)\n",
    "\n",
    "chain = RetrievalQA.from_chain_type(\n",
    "    llm=llm,\n",
    "    chain_type='refine',\n",
    "    retriever=vectorstore.as_retriever(),\n",
    ")"
   ]
  },
  {
   "cell_type": "code",
   "execution_count": 27,
   "id": "b37277a5",
   "metadata": {},
   "outputs": [
    {
     "data": {
      "text/plain": [
       "'Winston Smith is a small, frail-looking man with a meager physique, characterized by his blue overalls, which serve as the uniform of the Party. He has very fair hair and a naturally sanguine face, though his skin appears roughened by coarse soap, blunt razor blades, and the cold winter that has just ended. His appearance reflects a sense of fragility and the oppressive environment he lives in.\\n\\nThroughout the novel, Winston is portrayed as a deeply introspective and increasingly rebellious individual, secretly harboring thoughts of dissent in a society where independent thinking is forbidden. Despite his physical weakness, he possesses a keen mind and a capacity for critical thought, which makes him both vulnerable and courageous in his quiet resistance against the Party’s totalitarian control.\\n\\nThe novel depicts Winston’s life under constant surveillance and repression. He works at the Ministry of Truth, where he alters historical records to fit the Party’s narrative. He lives in a world where the Ministry of Love is a terrifying, secretive institution—completely inaccessible to him, surrounded by barbed-wire, guards, and machine-gun nests, symbolizing the brutal enforcement of Party doctrine. Winston’s attempts to maintain his personal thoughts and memories, such as keeping a secret diary and contemplating rebellion, put him at great risk of punishment.\\n\\nIn moments of vulnerability, Winston seeks solace in alcohol—Victory Gin—and small acts of rebellion like writing in a personal notebook, which he keeps hidden from the Party’s surveillance. His internal conflict and desire for truth and freedom stand in stark contrast to the oppressive environment that seeks to crush individuality and independent thought.\\n\\nOverall, Winston embodies the struggle of the individual against an all-encompassing totalitarian regime, marked by his physical frailty, his rebellious thoughts, and his quiet resistance within an atmosphere of fear and control.'"
      ]
     },
     "execution_count": 27,
     "metadata": {},
     "output_type": "execute_result"
    }
   ],
   "source": [
    "chain.run(\"Describe Winston Smith\")"
   ]
  }
 ],
 "metadata": {
  "kernelspec": {
   "display_name": "env",
   "language": "python",
   "name": "python3"
  },
  "language_info": {
   "codemirror_mode": {
    "name": "ipython",
    "version": 3
   },
   "file_extension": ".py",
   "mimetype": "text/x-python",
   "name": "python",
   "nbconvert_exporter": "python",
   "pygments_lexer": "ipython3",
   "version": "3.11.13"
  }
 },
 "nbformat": 4,
 "nbformat_minor": 5
}
