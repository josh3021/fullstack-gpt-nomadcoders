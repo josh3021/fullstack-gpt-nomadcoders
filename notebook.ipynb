{
 "cells": [
  {
   "cell_type": "code",
   "execution_count": 24,
   "id": "bdade7de",
   "metadata": {},
   "outputs": [],
   "source": [
    "from langchain.memory import ConversationSummaryBufferMemory\n",
    "from langchain.chat_models import ChatOpenAI\n",
    "\n",
    "llm = ChatOpenAI(temperature=0.1)\n",
    "\n",
    "memory = ConversationSummaryBufferMemory(\n",
    "    llm=llm,\n",
    "    max_token_limit=50,\n",
    "    return_messages=True\n",
    ")\n",
    "\n",
    "\n",
    "def add_message(input, output):\n",
    "    memory.save_context({\"input\": input}, {\"output\": output})\n",
    "\n",
    "\n",
    "def get_history():\n",
    "    return memory.load_memory_variables({})\n",
    "\n",
    "\n",
    "add_message(\"Hi, My name is Seonghwan, I live in South Korea, Seoul\",\n",
    "            \"Cool! How's the weather in Seoul?\")"
   ]
  },
  {
   "cell_type": "code",
   "execution_count": 25,
   "id": "c63d9e42",
   "metadata": {},
   "outputs": [],
   "source": [
    "add_message(\"Seoul is now hot, sweaty sunny day\",\n",
    "            \"Be careful to heat, stay inside\")"
   ]
  },
  {
   "cell_type": "code",
   "execution_count": 26,
   "id": "212f3813",
   "metadata": {},
   "outputs": [],
   "source": [
    "add_message(\"How for is Seoul to Köln?\",\n",
    "            \"It's about 8,566 km far! Super far away!\")"
   ]
  },
  {
   "cell_type": "code",
   "execution_count": 27,
   "id": "cf520b81",
   "metadata": {},
   "outputs": [],
   "source": [
    "add_message(\"How for is Seoul to QingTao?\",\n",
    "            \"It's about 574 km far! It's very short!\")"
   ]
  },
  {
   "cell_type": "code",
   "execution_count": 28,
   "id": "cd54956a",
   "metadata": {},
   "outputs": [],
   "source": [
    "add_message(\"How for is Seoul to Tokyo?\",\n",
    "            \"It's about 1130 km far! It's very short!\")"
   ]
  },
  {
   "cell_type": "code",
   "execution_count": 29,
   "id": "69fbd4fd",
   "metadata": {},
   "outputs": [],
   "source": [
    "add_message(\"How for is Seoul to Phuket?\",\n",
    "            \"It's about 4375 km far! It's queit long!\")"
   ]
  },
  {
   "cell_type": "code",
   "execution_count": 30,
   "id": "cb2671ec",
   "metadata": {},
   "outputs": [
    {
     "data": {
      "text/plain": [
       "{'history': [SystemMessage(content=\"Seonghwan from South Korea, Seoul, shares that it's a hot, sweaty sunny day in Seoul. The AI advises to be careful of the heat and stay inside. When asked about the distance between Seoul and Köln, the AI responds that it's about 8,566 km far, which is super far away. When asked about the distance between Seoul and QingTao, the AI responds that it's about 574 km far, which is very short in comparison. The human asks how far Seoul is from Tokyo, and the AI responds that it's about 1130 km far, which is very short!\"),\n",
       "  HumanMessage(content='How for is Seoul to Phuket?'),\n",
       "  AIMessage(content=\"It's about 4375 km far! It's queit long!\")]}"
      ]
     },
     "execution_count": 30,
     "metadata": {},
     "output_type": "execute_result"
    }
   ],
   "source": [
    "get_history()"
   ]
  }
 ],
 "metadata": {
  "kernelspec": {
   "display_name": "env",
   "language": "python",
   "name": "python3"
  },
  "language_info": {
   "codemirror_mode": {
    "name": "ipython",
    "version": 3
   },
   "file_extension": ".py",
   "mimetype": "text/x-python",
   "name": "python",
   "nbconvert_exporter": "python",
   "pygments_lexer": "ipython3",
   "version": "3.11.13"
  }
 },
 "nbformat": 4,
 "nbformat_minor": 5
}
