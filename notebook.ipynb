{
 "cells": [
  {
   "cell_type": "code",
   "execution_count": 40,
   "id": "bdade7de",
   "metadata": {},
   "outputs": [
    {
     "name": "stdout",
     "output_type": "stream",
     "text": [
      "\n",
      "        Here is the information about movie The Grand Budapest Hotel:\n",
      "          Director: Wes Anderson\n",
      "          Main Cast: Ralph Fiennes, F. Murray Abraham, Mathieu Amalric, Adrien Brody, Willem Dafoe, Jeff Goldblum, Bill Murray, Tilda Swinton, Owen Wilson\n",
      "          Budget: Approximately $25 million\n",
      "          Box Office Revenue: Around $174 million worldwide\n",
      "          Genres: Comedy, Drama\n",
      "          Simple Synopsis: The film is a whimsical comedy centered around Gustave H., the dedicated concierge of a famous European hotel, and his protégé Zero. The story involves the theft of a priceless Renaissance painting, a family feud over a fortune, and a series of eccentric characters, all set against the backdrop of a fictional European country in the 1930s. The film is known for its distinctive visual style, symmetrical compositions, and quirky humor.\n"
     ]
    },
    {
     "data": {
      "text/plain": [
       "AIMessageChunk(content='\\n        Here is the information about movie The Grand Budapest Hotel:\\n          Director: Wes Anderson\\n          Main Cast: Ralph Fiennes, F. Murray Abraham, Mathieu Amalric, Adrien Brody, Willem Dafoe, Jeff Goldblum, Bill Murray, Tilda Swinton, Owen Wilson\\n          Budget: Approximately $25 million\\n          Box Office Revenue: Around $174 million worldwide\\n          Genres: Comedy, Drama\\n          Simple Synopsis: The film is a whimsical comedy centered around Gustave H., the dedicated concierge of a famous European hotel, and his protégé Zero. The story involves the theft of a priceless Renaissance painting, a family feud over a fortune, and a series of eccentric characters, all set against the backdrop of a fictional European country in the 1930s. The film is known for its distinctive visual style, symmetrical compositions, and quirky humor.\\n')"
      ]
     },
     "execution_count": 40,
     "metadata": {},
     "output_type": "execute_result"
    }
   ],
   "source": [
    "from langchain.chat_models import ChatOpenAI\n",
    "from langchain.callbacks import StreamingStdOutCallbackHandler\n",
    "from langchain.prompts import ChatPromptTemplate\n",
    "from langchain.prompts.few_shot import FewShotChatMessagePromptTemplate\n",
    "\n",
    "chat = ChatOpenAI(\n",
    "    model='gpt-4.1-nano',\n",
    "    temperature=0.1,\n",
    "    streaming=True,\n",
    "    callbacks=[\n",
    "        StreamingStdOutCallbackHandler(),\n",
    "    ]\n",
    ")\n",
    "\n",
    "examples = [\n",
    "    {\n",
    "        \"movie\": \"Pulp Fiction\",\n",
    "        \"answer\": \"\"\"\n",
    "        Here is the information about movie Pulp Fiction:\n",
    "          Director: Quentin Tarantino\n",
    "          Main Cast: John Travolta, Samuel L. Jackson, Uma Thurman\n",
    "          Budget: $8 million  \n",
    "          Box Office Revenue: $213.9 million worldwide  \n",
    "          Genres: Crime, Drama, Thriller  \n",
    "          Simple Synopsis: Pulp Fiction is a 1994 American independent crime film that intertwines four tales of violence and redemption in Los Angeles, following two hitmen, a boxer, a gangster’s wife, and a pair of diner bandits, known for its non-linear narrative, sharp dialogue, and pop culture references.\n",
    "        \"\"\"\n",
    "    },\n",
    "    {\n",
    "        \"movie\": \"Eternal Sunshine of the Spotless Mind\",\n",
    "        \"answer\": \"\"\"\n",
    "        Here is the information about movie Eternal Sunshine of the Spotless Mind:\n",
    "          Director: Michel Gondry\n",
    "          Main Cast: Jim Carrey, Kate Winslet, Kirsten Dunst, Mark Ruffalo, Elijah Wood, Tom Wilkinson\n",
    "          Budget: $20 million\n",
    "          Box Office Revenue: $73.1 million worldwide\n",
    "          Genres: Drama, Romance, Sci-Fi\n",
    "          Simple Synopsis: A couple, Joel and Clementine, undergo a procedure to erase memories of each other after a painful breakup. As Joel relives their memories during the process, he fights to preserve their love, exploring themes of memory, identity, and the value of painful experiences in a non-linear, surreal narrative.\n",
    "        \"\"\"\n",
    "    },\n",
    "    {\n",
    "        \"movie\": \"There Will Be Blood\",\n",
    "        \"answer\": \"\"\"\n",
    "        Here is the information about movie There Will Be Blood:\n",
    "          Director: Paul Thomas Anderson\n",
    "          Main Cast: Daniel Day-Lewis, Paul Dano, Ciarán Hinds\n",
    "          Budget: $25 million\n",
    "          Box Office Revenue: $76.2 million worldwide\n",
    "          Genres: Drama, History\n",
    "          Simple Synopsis: Set in the early 20th-century American West, the film follows Daniel Plainview, a ruthless oil prospector whose relentless pursuit of wealth and power leads to greed, betrayal, and moral decay, clashing with a young preacher in a tale of ambition and corruption.\n",
    "        \"\"\"\n",
    "    }\n",
    "]\n",
    "\n",
    "example_prompt = ChatPromptTemplate.from_messages([\n",
    "    (\"human\", \"What do you know about {movie}?\"),\n",
    "    (\"ai\", \"{answer}\")\n",
    "])\n",
    "\n",
    "few_shot_prompt = FewShotChatMessagePromptTemplate(\n",
    "    examples=examples,\n",
    "    example_prompt=example_prompt,\n",
    ")\n",
    "\n",
    "movie_prompt = ChatPromptTemplate.from_messages([\n",
    "    (\"system\", \"You are a movie expert\"),\n",
    "    few_shot_prompt,\n",
    "    (\"human\", \"WHat do you know about {movie}?\")\n",
    "])\n",
    "\n",
    "movie_chain = movie_prompt | chat\n",
    "\n",
    "movie_chain.invoke({\"movie\": \"The Grand Budapest Hotel\"})"
   ]
  }
 ],
 "metadata": {
  "kernelspec": {
   "display_name": "env",
   "language": "python",
   "name": "python3"
  },
  "language_info": {
   "codemirror_mode": {
    "name": "ipython",
    "version": 3
   },
   "file_extension": ".py",
   "mimetype": "text/x-python",
   "name": "python",
   "nbconvert_exporter": "python",
   "pygments_lexer": "ipython3",
   "version": "3.11.13"
  }
 },
 "nbformat": 4,
 "nbformat_minor": 5
}
