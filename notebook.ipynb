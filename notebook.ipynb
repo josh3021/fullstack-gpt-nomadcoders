{
 "cells": [
  {
   "cell_type": "code",
   "execution_count": null,
   "id": "bdade7de",
   "metadata": {},
   "outputs": [],
   "source": [
    "from langchain.memory import ConversationBufferWindowMemory\n",
    "from langchain.chat_models import ChatOpenAI\n",
    "from langchain.schema.runnable import RunnablePassthrough\n",
    "from langchain.prompts import FewShotChatMessagePromptTemplate, ChatPromptTemplate, MessagesPlaceholder\n",
    "\n",
    "llm = ChatOpenAI(\n",
    "    temperature=0.7,\n",
    "    streaming=True,\n",
    "    verbose=True\n",
    ")\n",
    "\n",
    "memory = ConversationBufferWindowMemory(\n",
    "    llm=llm,\n",
    "    k=2,\n",
    "    max_token_limit=100,\n",
    "    memory_key=\"history\",\n",
    "    return_messages=True\n",
    ")\n",
    "\n",
    "examples = [\n",
    "    {\n",
    "        \"movie\": \"Top Gun\",\n",
    "        \"output\": \"🛩️👨‍✈️🔥\"\n",
    "    },\n",
    "    {\n",
    "        \"movie\": \"The Godfather\",\n",
    "        \"output\": \"👨‍👨‍👦🔫🍝\"\n",
    "    }\n",
    "]\n",
    "\n",
    "example_prompt = ChatPromptTemplate.from_messages(\n",
    "    [\n",
    "        (\"human\", \"Describe a Movie {movie} only with 3 Emojis\"),\n",
    "        (\"ai\", \"{output}\")\n",
    "    ]\n",
    ")\n",
    "\n",
    "few_shot_prompt = FewShotChatMessagePromptTemplate(\n",
    "    examples=examples,\n",
    "    example_prompt=example_prompt\n",
    ")\n",
    "\n",
    "# few_shot_prompt를 시스템 프롬프트에 통합\n",
    "system_prompt = (\n",
    "    \"You are an AI function that describes a movie with only 3 Emojis. DO NOT ADD ANYTHING ELSE. \"\n",
    "    \"For reference, use the following examples:\\n\"\n",
    ")\n",
    "# 예제를 시스템 프롬프트에 추가\n",
    "for example in examples:\n",
    "    system_prompt += f\"Movie: {example['movie']} -> {example['output']}\\n\"\n",
    "\n",
    "system_prompt += 'if i ask about movie, then reply only 3 emojis. but if i ask about history, then answer like index: Movie -> 3 emoji output'\n",
    "\n",
    "\n",
    "final_prompt = ChatPromptTemplate.from_messages(\n",
    "    [\n",
    "        ('system', system_prompt),\n",
    "        MessagesPlaceholder(variable_name=\"history\"),\n",
    "        ('human', '{movie}')\n",
    "    ]\n",
    ")\n",
    "\n",
    "\n",
    "def load_memory(_):\n",
    "    return memory.load_memory_variables({})[\"history\"]\n",
    "\n",
    "\n",
    "# few_shot_prompt는 체인에서 제거하고, 시스템 프롬프트에 예제 포함\n",
    "final_chain = RunnablePassthrough.assign(\n",
    "    history=load_memory) | final_prompt | llm\n",
    "\n",
    "EXAMPLE_MOVIES = [example[\"movie\"] for example in examples]\n",
    "\n",
    "\n",
    "def invoke_chain(movie):\n",
    "    result = final_chain.invoke({\"movie\": movie})\n",
    "\n",
    "    # 새로운 영화만 메모리에 저장\n",
    "    if movie not in EXAMPLE_MOVIES:\n",
    "        memory.save_context(\n",
    "            {\"input\": movie},\n",
    "            {\"output\": result.content}\n",
    "        )\n",
    "    return result.content"
   ]
  },
  {
   "cell_type": "code",
   "execution_count": 129,
   "id": "0f7e28e8",
   "metadata": {},
   "outputs": [
    {
     "data": {
      "text/plain": [
       "'🏝️👦🏼👧🏻'"
      ]
     },
     "execution_count": 129,
     "metadata": {},
     "output_type": "execute_result"
    }
   ],
   "source": [
    "invoke_chain(\"Moonrise Kingdom\")"
   ]
  },
  {
   "cell_type": "code",
   "execution_count": 130,
   "id": "17423b55",
   "metadata": {},
   "outputs": [
    {
     "data": {
      "text/plain": [
       "'🕶️🍔💉'"
      ]
     },
     "execution_count": 130,
     "metadata": {},
     "output_type": "execute_result"
    }
   ],
   "source": [
    "invoke_chain(\"Pulp Fiction\")"
   ]
  },
  {
   "cell_type": "code",
   "execution_count": 131,
   "id": "27ba63ca",
   "metadata": {},
   "outputs": [
    {
     "data": {
      "text/plain": [
       "'1: Moonrise Kingdom -> 🏝️👦🏼👧🏻\\n2: Pulp Fiction -> 🕶️🍔💉'"
      ]
     },
     "execution_count": 131,
     "metadata": {},
     "output_type": "execute_result"
    }
   ],
   "source": [
    "invoke_chain(\"What movies that i questioned before?\")"
   ]
  }
 ],
 "metadata": {
  "kernelspec": {
   "display_name": "env",
   "language": "python",
   "name": "python3"
  },
  "language_info": {
   "codemirror_mode": {
    "name": "ipython",
    "version": 3
   },
   "file_extension": ".py",
   "mimetype": "text/x-python",
   "name": "python",
   "nbconvert_exporter": "python",
   "pygments_lexer": "ipython3",
   "version": "3.11.13"
  }
 },
 "nbformat": 4,
 "nbformat_minor": 5
}
