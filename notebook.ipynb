{
 "cells": [
  {
   "cell_type": "code",
   "execution_count": null,
   "id": "bdade7de",
   "metadata": {},
   "outputs": [],
   "source": [
    "from langchain.memory import ConversationSummaryMemory\n",
    "from langchain.chat_models import ChatOpenAI\n",
    "\n",
    "llm = ChatOpenAI(temperature=0.1)\n",
    "\n",
    "memory = ConversationSummaryMemory(llm=llm)\n",
    "\n",
    "\n",
    "def add_message(input, output):\n",
    "    memory.save_context({\"input\": input}, {\"output\": output})\n",
    "\n",
    "\n",
    "def get_history():\n",
    "    return memory.load_memory_variables({})\n",
    "\n",
    "\n",
    "add_message(\"Hi, My name is Seonghwan, I live in South Korea, Seoul\",\n",
    "            \"Cool! How's the weather in Seoul?\")"
   ]
  },
  {
   "cell_type": "code",
   "execution_count": 10,
   "id": "c63d9e42",
   "metadata": {},
   "outputs": [],
   "source": [
    "add_message(\"Seoul is now hot, sweaty sunny day\",\n",
    "            \"Be careful to heat, stay inside\")"
   ]
  },
  {
   "cell_type": "code",
   "execution_count": 11,
   "id": "cb2671ec",
   "metadata": {},
   "outputs": [
    {
     "data": {
      "text/plain": [
       "{'history': 'Seonghwan from Seoul, South Korea, describes the weather as hot and sweaty. The AI advises to be careful of the heat and stay inside to stay cool.'}"
      ]
     },
     "execution_count": 11,
     "metadata": {},
     "output_type": "execute_result"
    }
   ],
   "source": [
    "get_history()"
   ]
  },
  {
   "cell_type": "code",
   "execution_count": null,
   "id": "1a4d014b",
   "metadata": {},
   "outputs": [],
   "source": []
  }
 ],
 "metadata": {
  "kernelspec": {
   "display_name": "env",
   "language": "python",
   "name": "python3"
  },
  "language_info": {
   "codemirror_mode": {
    "name": "ipython",
    "version": 3
   },
   "file_extension": ".py",
   "mimetype": "text/x-python",
   "name": "python",
   "nbconvert_exporter": "python",
   "pygments_lexer": "ipython3",
   "version": "3.11.13"
  }
 },
 "nbformat": 4,
 "nbformat_minor": 5
}
